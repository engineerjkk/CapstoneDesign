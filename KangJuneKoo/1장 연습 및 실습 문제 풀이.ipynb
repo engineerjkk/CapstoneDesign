{
 "cells": [
  {
   "cell_type": "markdown",
   "id": "20b87eec",
   "metadata": {},
   "source": [
    "# 1.1\n",
    "다음중 선형 자료구조로 볼 수 있는 것을 모두 골라라\n",
    "1. 스택 2. 큐 3. 트리 4. 덱 5. 리스트 6. 집합 7. 그래프  \n",
    "1,2,4,5"
   ]
  },
  {
   "cell_type": "markdown",
   "id": "437641fe",
   "metadata": {},
   "source": [
    "# 1.2\n",
    "Bag의 추상자료형을 확장하여 Counting Bag의 추상 자료형을 정의하라, Counting Bag은 Bag에 numOf(item) 연산이 추가된 추상 자료형인데, 이 연산은 Bag에 들어 있는 물건 중에서 item의 수를 반환한다. \n",
    "- Bag에 들어 있는 물건 중에서 item의 수를 반환한다."
   ]
  },
  {
   "cell_type": "markdown",
   "id": "d79470ae",
   "metadata": {},
   "source": [
    "# 1.4\n",
    "다음의 시간 복잡도 함수를 빅오 표기법으로 나타내라. \n",
    "1. n^2\n",
    "2. n^3\n",
    "3. n^3\n",
    "4. 3^n\n",
    "5. 3^n"
   ]
  },
  {
   "cell_type": "markdown",
   "id": "97f7dd4c",
   "metadata": {},
   "source": [
    "# 1.5\n",
    "빅오 표기법의 정의를 이용해 30n+4가 O(n)임을 증명하라\n",
    "- 시간복잡도 분석에서는 함수의 전체 항이 아니라 최고차항만을 고려한다. 따라서 30n의 n이 최고차항이므로 O(n)이다. "
   ]
  },
  {
   "cell_type": "markdown",
   "id": "456d4dd8",
   "metadata": {},
   "source": [
    "# 1.6\n",
    "다음의 빅오 표기법들을 실행 시간이 적게 걸리는 것부터 나열하라.  \n",
    "- O(1) 상수형 - O(logn) 로그형 - O(n) 선형 - O(nlogn) 선형로그형 - O(n^2) 2차형 - O(n^3) 3차형 - O(2^n) 지수형 - O(n!) 팩토리얼형"
   ]
  },
  {
   "cell_type": "markdown",
   "id": "29898316",
   "metadata": {},
   "source": [
    "# 1.7\n",
    "다음 알고리즘의 시간 복잡도를 빅오 표기법으로 나타내라. O(n^2), O(n)"
   ]
  },
  {
   "cell_type": "markdown",
   "id": "dfbf9a1f",
   "metadata": {},
   "source": [
    "    sum=0\n",
    "    for i in range(n):\n",
    "        for j in range(n):\n",
    "            sum=sum+j"
   ]
  },
  {
   "cell_type": "markdown",
   "id": "b08abb36",
   "metadata": {},
   "source": [
    "    sum=0\n",
    "    k=1\n",
    "    while k<=n:\n",
    "        sum=sum+k\n",
    "        k=k*2"
   ]
  },
  {
   "cell_type": "markdown",
   "id": "0e7ad574",
   "metadata": {},
   "source": [
    "# 1.8\n",
    "다음 코드의 시간 복잡도를 빅오 표기법으로 나타내라. O(mn), O(logn)"
   ]
  },
  {
   "cell_type": "markdown",
   "id": "0dd260a6",
   "metadata": {},
   "source": [
    "    sum=0\n",
    "    for i in range(n):\n",
    "        for j in range (i+1,n,2):\n",
    "            sum=sum+j"
   ]
  },
  {
   "cell_type": "markdown",
   "id": "a19ee9f7",
   "metadata": {},
   "source": [
    "    def algorithm(n):\n",
    "        k=0\n",
    "        while n>1:\n",
    "            n=n/2\n",
    "            k=k+1\n",
    "        return k"
   ]
  },
  {
   "cell_type": "markdown",
   "id": "48e6bf95",
   "metadata": {},
   "source": [
    "# 1.9\n",
    "파이썬 리스트에 정수가 들어 있다고 가정하고 다음 작업의 최선과 최악의 시간 복잡도를 빅오 표기법으로 말하라  \n",
    "1. 리스트의 n번째 숫자를 화면에 출력한다. 최선 : O(1), 최악 : O(1)\n",
    "2. 리스트에서 어떤 숫자를 찾는다. 최선 : O(1), 최악 : O(n)\n",
    "3. 리스트안의 숫자 중에서 최솟값을 찾는다. 최선 : O(n), 최악 O(n)\n",
    "4. 리스트의 모든 숫자를 더한다. 최선 : O(n), 최악 : O(n)"
   ]
  },
  {
   "cell_type": "markdown",
   "id": "4d2d2397",
   "metadata": {},
   "source": [
    "## 1.10 다음 코드의 최선의 겨우와 최악의 경우에 대한 시간 복잡도를 빅오 표기법으로 나타내라."
   ]
  },
  {
   "cell_type": "code",
   "execution_count": 6,
   "id": "6ac844b7",
   "metadata": {},
   "outputs": [],
   "source": [
    "def func1(n):\n",
    "    i=n\n",
    "    sum=0\n",
    "    if i%3==0:\n",
    "        for j in range(n/2):\n",
    "            sum+=j\n",
    "    elif i%2==0:\n",
    "        for j in range(5):\n",
    "            sum+=j\n",
    "    else:\n",
    "        for j in range(n):\n",
    "            sum+=j\n",
    "    return sum"
   ]
  },
  {
   "cell_type": "code",
   "execution_count": 8,
   "id": "9d52b47a",
   "metadata": {},
   "outputs": [],
   "source": [
    "def func2(n):\n",
    "    sum=0\n",
    "    for i in range(n):\n",
    "        if i%3==0:\n",
    "            for j in range(n/2):\n",
    "                sum+=j\n",
    "        elif i%2==0:\n",
    "            for j in range(5):\n",
    "                sum +=j\n",
    "        else:\n",
    "            for j in range(n):\n",
    "                sum+=j\n",
    "    return sum"
   ]
  },
  {
   "cell_type": "markdown",
   "id": "1f2291fa",
   "metadata": {},
   "source": [
    "# 1. 11\n",
    "다음의 순환호출 함수에서 잘못된 점은 무엇인가?"
   ]
  },
  {
   "cell_type": "markdown",
   "id": "dff4e2c5",
   "metadata": {},
   "source": [
    "끝없이 무한연산을 한다."
   ]
  },
  {
   "cell_type": "code",
   "execution_count": 14,
   "id": "9cc085c2",
   "metadata": {},
   "outputs": [],
   "source": [
    "def recursive(n):\n",
    "    if n==1:\n",
    "        return 0\n",
    "    return n*recursive(n)"
   ]
  },
  {
   "cell_type": "markdown",
   "id": "55dc3a87",
   "metadata": {},
   "source": [
    "끝없이 무한연산을 한다. if문을 통해 제한을 걸어야한다."
   ]
  },
  {
   "cell_type": "code",
   "execution_count": 15,
   "id": "1fed7afd",
   "metadata": {},
   "outputs": [],
   "source": [
    "def recursive(n):\n",
    "    print('현재 n=',n)\n",
    "    return n*recursive(n-1)"
   ]
  },
  {
   "cell_type": "markdown",
   "id": "9737589a",
   "metadata": {},
   "source": [
    "# 1.12\n",
    "다음과 같은 순환적인 프로그램에서 sub(3)과 같이 호출할 때 함수 sub()가 호출되는 횟수는? 5회"
   ]
  },
  {
   "cell_type": "code",
   "execution_count": 31,
   "id": "07dc75eb",
   "metadata": {},
   "outputs": [],
   "source": [
    "def sub(n):\n",
    "    i=1\n",
    "    #print(i)\n",
    "    print(n)\n",
    "    if n<=1:\n",
    "        return n\n",
    "    return sub(n-1)+sub(n-2)"
   ]
  },
  {
   "cell_type": "code",
   "execution_count": 32,
   "id": "ddf7e597",
   "metadata": {},
   "outputs": [
    {
     "name": "stdout",
     "output_type": "stream",
     "text": [
      "3\n",
      "2\n",
      "1\n",
      "0\n",
      "1\n"
     ]
    },
    {
     "data": {
      "text/plain": [
       "2"
      ]
     },
     "execution_count": 32,
     "metadata": {},
     "output_type": "execute_result"
    }
   ],
   "source": [
    "sub(3)"
   ]
  },
  {
   "cell_type": "markdown",
   "id": "14b49671",
   "metadata": {},
   "source": [
    "# 1.13\n",
    "다음 함수를 sum(5)로 호출하였을 때, 화면에 출력되는 내용과 함수의 반환 값을 구하라."
   ]
  },
  {
   "cell_type": "code",
   "execution_count": 36,
   "id": "9bcf2fdd",
   "metadata": {},
   "outputs": [],
   "source": [
    "def sum(n):\n",
    "    print(n)\n",
    "    if n<1:\n",
    "        return 0;\n",
    "    else:\n",
    "        return n+sum(n-1)"
   ]
  },
  {
   "cell_type": "markdown",
   "id": "8b08cf0d",
   "metadata": {},
   "source": [
    "0~5까지 더한 15가 출력된다."
   ]
  },
  {
   "cell_type": "code",
   "execution_count": 37,
   "id": "4c55089b",
   "metadata": {},
   "outputs": [
    {
     "name": "stdout",
     "output_type": "stream",
     "text": [
      "5\n",
      "4\n",
      "3\n",
      "2\n",
      "1\n",
      "0\n"
     ]
    },
    {
     "data": {
      "text/plain": [
       "15"
      ]
     },
     "execution_count": 37,
     "metadata": {},
     "output_type": "execute_result"
    }
   ],
   "source": [
    "sum(5)"
   ]
  },
  {
   "cell_type": "markdown",
   "id": "fbd9c013",
   "metadata": {},
   "source": [
    "# 1.14\n",
    "다음 함수에서 asterisk(5)와 같이 호출할 때 출력되는 * 의 개수는? 15개"
   ]
  },
  {
   "cell_type": "code",
   "execution_count": 42,
   "id": "372dd885",
   "metadata": {},
   "outputs": [],
   "source": [
    "def asterisk(i):\n",
    "    print('what')\n",
    "    if i>1:\n",
    "        asterisk(i/2)\n",
    "        asterisk(i/2)\n",
    "    print(\"*\",end='')"
   ]
  },
  {
   "cell_type": "code",
   "execution_count": 43,
   "id": "43cd2928",
   "metadata": {},
   "outputs": [
    {
     "name": "stdout",
     "output_type": "stream",
     "text": [
      "what\n",
      "what\n",
      "what\n",
      "what\n",
      "*what\n",
      "**what\n",
      "what\n",
      "*what\n",
      "***what\n",
      "what\n",
      "what\n",
      "*what\n",
      "**what\n",
      "what\n",
      "*what\n",
      "****"
     ]
    }
   ],
   "source": [
    "asterisk(5)"
   ]
  },
  {
   "cell_type": "code",
   "execution_count": null,
   "id": "b17e698e",
   "metadata": {},
   "outputs": [],
   "source": []
  }
 ],
 "metadata": {
  "kernelspec": {
   "display_name": "Python 3",
   "language": "python",
   "name": "python3"
  },
  "language_info": {
   "codemirror_mode": {
    "name": "ipython",
    "version": 3
   },
   "file_extension": ".py",
   "mimetype": "text/x-python",
   "name": "python",
   "nbconvert_exporter": "python",
   "pygments_lexer": "ipython3",
   "version": "3.6.8"
  }
 },
 "nbformat": 4,
 "nbformat_minor": 5
}
