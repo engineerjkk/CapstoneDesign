{
 "cells": [
  {
   "cell_type": "markdown",
   "id": "30782aca",
   "metadata": {},
   "source": [
    "# 6.1\n",
    "단순 연결리스트의 노드들을 변수 p방문하고자 한다. 현재 p가 가리키는 노드에서 다음 노드로 가려면 어떤 코드를 사용해야 하는가?\n",
    "1) p++\n",
    "2) p--\n",
    "3) p=p->link\n",
    "4) p=p->data (O)"
   ]
  },
  {
   "cell_type": "markdown",
   "id": "9a5c0608",
   "metadata": {},
   "source": [
    "# ~6.2~\n",
    "단순연결리스트로 구현한 연결된 스택(6.2절)에서 size() 연산의 시간 복잡도가 0(n)이다. 이를 O(1)으로 개선하기 위해 항목의 수를 관리하는 변수를 사용할 수 있다. 이를 위해 추가하거나 수정해야 하는 데이터 멤버와 메소드들을 자세히 설명하라.\n",
    "- size는 배열에서는 O(1) 이지만 연결된 스택에서는 O(n)이다. 물론 크기를 위한 변수를 하나 추가하고, 삽입과 삭제 연산에서 이 변수를 잘 관리한다면 O(1) 될 수 있다. "
   ]
  },
  {
   "cell_type": "markdown",
   "id": "ffb4a351",
   "metadata": {},
   "source": [
    "# 6.3\n",
    "다음과 같은 연결 리스트에 아래와 같은 코드를 실행한다고 하자. 실행이 끝난 후에 포인터 P가 가리키는 노드는 어떤 노드인가?  \n",
    "p=list  \n",
    "while p->link !=None:  \n",
    "    ...  \n",
    "    p=p->link\n",
    "\n",
    "답 : NULL을 가리킨다."
   ]
  },
  {
   "cell_type": "markdown",
   "id": "00aedad6",
   "metadata": {},
   "source": [
    "# 6.4\n",
    "앞 문제와 같은 연결 리스트에서 모든 노드의 데이터 필드를 순서대로 화면에 출력하기 위한 다음 코드의 빈 곳을 완성하라.  \n",
    "        p=list  \n",
    "        while p->link ! = None :  \n",
    "            print(p->data)  \n",
    "            p=p->link"
   ]
  },
  {
   "cell_type": "markdown",
   "id": "96a6bb53",
   "metadata": {},
   "source": [
    "# 6.5\n",
    "앞 문제와 같은 연결 리스트에서 모든 노드의 데이터 필드를 역순으로 화면에 출력할 수 있는 코드를 작성하라. 순환 함수를 이용할 수 있다."
   ]
  },
  {
   "cell_type": "code",
   "execution_count": 5,
   "id": "aba78716",
   "metadata": {},
   "outputs": [],
   "source": [
    "#197p\n",
    "\n",
    "class Node:\n",
    "    #노드 구성\n",
    "    def __init__(self,elem,link=None): # 링크 초기값 None, 링크 입력이없으면 자동으로 None\n",
    "        self.data=elem\n",
    "        self.link=link"
   ]
  },
  {
   "cell_type": "code",
   "execution_count": 16,
   "id": "c51dc4d3",
   "metadata": {},
   "outputs": [],
   "source": [
    "# 203p\n",
    "\n",
    "class LinkedList:\n",
    "    def __init__(self):\n",
    "        self.head=None\n",
    "    \n",
    "    def isEmpty(self): \n",
    "        return self.head==None\n",
    "    \n",
    "    def clear(self):\n",
    "        self.head=None\n",
    "    \n",
    "    def size(self):\n",
    "        n=self.head\n",
    "        count=0\n",
    "        \n",
    "        while not n==None:\n",
    "            n=n.link\n",
    "            count+=1\n",
    "        return count\n",
    "    \n",
    "    def display(self,msg='LinkedList'):\n",
    "        n=self.head\n",
    "        \n",
    "        print(msg,end='')\n",
    "        while not n==None:\n",
    "            print(n.data,end=' ')\n",
    "            n=n.link\n",
    "        print()\n",
    "    \n",
    "    def back(self,msg='ReversePrint'):\n",
    "        n=self.head\n",
    "        reverse=[]\n",
    "        print(msg,end='')\n",
    "        while not n==None:\n",
    "            reverse.append(n.data)\n",
    "            n=n.link\n",
    "        print(reverse[::-1])\n",
    "        \n",
    "    \n",
    "    def getNode(self,pos):\n",
    "        if pos<0:\n",
    "            return None\n",
    "        node=self.head\n",
    "        \n",
    "        while pos>0 and node !=None:\n",
    "            node=node.link\n",
    "            pos-=1\n",
    "            \n",
    "        return node\n",
    "    \n",
    "    def getEntry(self,pos):\n",
    "        node = self.getNode(pos)\n",
    "        if node==None:\n",
    "            return None\n",
    "        else:\n",
    "            return node.data\n",
    "        \n",
    "    def replace(self,pos,elem):\n",
    "        node=self.getNode(pos)\n",
    "        if node !=None:\n",
    "            node.data=elem\n",
    "            \n",
    "    def find(self,data):\n",
    "        node=self.head\n",
    "        \n",
    "        while not node == None:\n",
    "            if node.data==data:\n",
    "                return node\n",
    "        return node\n",
    "    \n",
    "    def insert(self,pos,elem):\n",
    "        before = self.getNode(pos-1)\n",
    "        if before ==None:\n",
    "            self.head=Node(elem,self.head)\n",
    "        else:\n",
    "            node = Node(elem,before.link)#원래 존재하는 link를 복사해서 가져오기\n",
    "            before.link=node#삽입\n",
    "    \n",
    "    def delete(self,pos):\n",
    "        before = self.getNode(pos-1)\n",
    "        if before==None:\n",
    "            if self.head is not Node:\n",
    "                self.head=self.head.link\n",
    "        \n",
    "        elif before.link!=None:\n",
    "            before.link=before.link.link\n",
    "        \n",
    "            "
   ]
  },
  {
   "cell_type": "code",
   "execution_count": 17,
   "id": "2a1687f2",
   "metadata": {},
   "outputs": [
    {
     "name": "stdout",
     "output_type": "stream",
     "text": [
      "초기상태\n"
     ]
    }
   ],
   "source": [
    "s=LinkedList()\n",
    "s.display('초기상태')\n",
    "s.insert(0,10)\n",
    "s.insert(0,20)\n",
    "s.insert(1,30)\n",
    "s.insert(s.size(),40)\n",
    "s.insert(2,50)"
   ]
  },
  {
   "cell_type": "code",
   "execution_count": 18,
   "id": "83d2a54a",
   "metadata": {},
   "outputs": [
    {
     "name": "stdout",
     "output_type": "stream",
     "text": [
      "LinkedList20 30 50 10 40 \n"
     ]
    }
   ],
   "source": [
    "s.display()"
   ]
  },
  {
   "cell_type": "code",
   "execution_count": 19,
   "id": "79688233",
   "metadata": {},
   "outputs": [
    {
     "name": "stdout",
     "output_type": "stream",
     "text": [
      "ReversePrint[40, 10, 50, 30, 20]\n"
     ]
    }
   ],
   "source": [
    "s.back()"
   ]
  },
  {
   "cell_type": "code",
   "execution_count": 9,
   "id": "bbcf4d09",
   "metadata": {},
   "outputs": [
    {
     "data": {
      "text/plain": [
       "<__main__.LinkedList at 0x2a7e2cfbf98>"
      ]
     },
     "execution_count": 9,
     "metadata": {},
     "output_type": "execute_result"
    }
   ],
   "source": [
    "s"
   ]
  },
  {
   "cell_type": "markdown",
   "id": "de02d383",
   "metadata": {},
   "source": [
    "# 6.6\n",
    "연결 리스트(linked list)의 \"preNode\" 노드와 그 다음 노드 사이에 새로운 \"newNode\"노드를 삽입하려고 한다. 빈 칸에 들어갈 문장으로 옳은 것은?\n",
    "- 3) newNode->link=preNode->link"
   ]
  },
  {
   "cell_type": "markdown",
   "id": "37d1ce48",
   "metadata": {},
   "source": [
    "# 6.7 \n",
    "다음은 연결 리스트를 이용하여 스택을 표현한 것이다. 이에 대한 설명으로 옳지 않는 것은?(단, push는 스택에 자료를 삽입하는 연산이고, pop은 스택에서 자료를 삭제하는 연산이다.\n",
    "1) 스택에 가장 최근에 입력된 자료는 top이 지시한다.\n",
    "2) 스택에 입력된 자료 중 E가 가장 오래된 자료이다.\n",
    "3) (b)에서 자료 C를 가져오려면 pop연산이 2회 필요하다 X -> 3회 필요하다. \n",
    "4) (a)에서 자료의 입력된 순서는 E, D, C, B이다. "
   ]
  },
  {
   "cell_type": "markdown",
   "id": "ff163a3d",
   "metadata": {},
   "source": [
    "# 6.8\n",
    "덱은 삽입과 삭제가 양끝에서 임의로 수행되는 자료구조이다. 다음 그림과 같이 단순 연결 리스트로 덱을 구현한다고 할 때 O(1) 시간 내에 수행할 수 없는 연산은?(단, first와 last는 각각 덱의 첫 번째 원소와 마지막 원소를 가리키며, 연산이 수행된 후에도 덱의 원형이 유지되어야 한다.\n",
    "\n",
    "1) addFirst 연산 : 덱의 첫 번째 원소로 삽입  \n",
    "2) addLast 연산 : 덱의 마지막 원소로 삽입  \n",
    "3) deleteFirst 연산 : 덱의 첫번째 원소를 삭제  \n",
    "4) deleteLast 연산 : 덱의 마지막 원소를 삭제 -> O   \n",
    "\n",
    "- rear를 앞으로 한칸 옮겨야 하는데 rear의 선행 노드를 바로 알 수 없다. "
   ]
  },
  {
   "cell_type": "markdown",
   "id": "2f62a181",
   "metadata": {},
   "source": [
    "# ~6.9~\n",
    "다음은 연결 리스트를 역순으로 변환하는 함수이다. 빈칸에 들어가야 하는 코드를 적으시오. \n"
   ]
  },
  {
   "cell_type": "markdown",
   "id": "d2a562ef",
   "metadata": {},
   "source": [
    "# 6.10\n",
    "연결 리스트에서 어떤 노드를 삭제하려고 한다. 만약 삭제할 노드를 알고 있다면 삭제 연산의 시간 복잡도는 어떻게 되는가? 리스트를 단순연결리스트로 구현한 경우와 이중연결 리스트로 구현한 경우에 대해 각각 시간 복잡도와 이유를 설명하라.\n",
    "\n",
    "- 단순 연결 리스트 O(n) 삭제할 위치를 알더라도 항목 이동을 위해 O(n)이 필요하다. \n",
    "- 이중 연결 리스트 O(1) 위치를 알고있으므로 이전 노드가 삭제할 노드의 다음 노드를 가리키도록 하면된다."
   ]
  },
  {
   "cell_type": "markdown",
   "id": "1c1c1115",
   "metadata": {},
   "source": [
    "# 6.11\n",
    "연결된 큐를 원형연결리스트로 구현할 때 큐 클래스의 데이터 멤버로 head가 아니라 tail을 사용하는 이유를 설명하라. \n",
    "- 만약 tail이 아니라 head(또는 front)만을 사용하게되면 이경우 front는 바로 접근이 가능하지만 rear을 바로접근하는 것은 불가능하다. 링크를 따라 후속 노드 전체를 끝까지 이동해야 rear에 드디어 도착한다. 따라서 tail을 사용하는 것이 rear와 front에 바로 접근할 수 있다는 점에서 훨씬 효율적이다. "
   ]
  },
  {
   "cell_type": "markdown",
   "id": "4ae3c6d8",
   "metadata": {},
   "source": [
    "# 6.12\n",
    "사용자로부터 양의 정수들을 입력받아서 연결된 큐에 저장하고, 결과를 다음과 같이 출력하는 프로그램을 작성하라. "
   ]
  },
  {
   "cell_type": "code",
   "execution_count": 40,
   "id": "6306c560",
   "metadata": {},
   "outputs": [],
   "source": [
    "# 209p\n",
    "class CircularLinkedQueue:\n",
    "    def __init__(self):\n",
    "        self.tail=None\n",
    "    \n",
    "    def isEmpty(self):\n",
    "        return self.tail==None\n",
    "    \n",
    "    def clear(self):\n",
    "        self.tail=None\n",
    "    \n",
    "    def peek(self):\n",
    "        if not self.isEmpty():\n",
    "            return self.tail.link.data\n",
    "    \n",
    "    def enqueue(self, item):\n",
    "        node=Node(item,None)\n",
    "        if self.isEmpty():\n",
    "            node.link=node\n",
    "            self.tail=node\n",
    "        else:\n",
    "            node.link=self.tail.link\n",
    "            self.tail.link=node\n",
    "            self.tail=node\n",
    "    \n",
    "    def dequeue(self):\n",
    "        if not self.isEmpty():\n",
    "            data=self.tail.link.data\n",
    "            if self.tail.link==self.tail:\n",
    "                self.tail=None\n",
    "            else:\n",
    "                self.tail.link=self.tail.link.link #두번째 노드를 가리킨다.\n",
    "            \n",
    "            return data\n",
    "    \n",
    "    def size(self):\n",
    "        if self.isEmpty():\n",
    "            return 0\n",
    "        else:\n",
    "            count=1\n",
    "            node=self.tail.link\n",
    "            while not node==self.tail:\n",
    "                node=node.link\n",
    "                count +=1\n",
    "            return count\n",
    "    def display(self,msg='CircularLinkedQueue'):\n",
    "        print(msg,end='')\n",
    "        if not self.isEmpty():\n",
    "            node=self.tail.link\n",
    "            while not node==self.tail:\n",
    "                print(node.data,end='')\n",
    "                node=node.link\n",
    "            print(node.data,end=' ') #tail 출력\n",
    "        print()\n",
    "        \n",
    "    def display(self,msg='CircularLinkedQueue'):\n",
    "        print(msg,end='')\n",
    "        if not self.isEmpty():\n",
    "            node=self.tail.link\n",
    "            while not node==self.tail:\n",
    "                print(node.data,end='->')\n",
    "                node=node.link\n",
    "            print(node.data,end=' ') #tail 출력\n",
    "        print()      "
   ]
  },
  {
   "cell_type": "code",
   "execution_count": 45,
   "id": "d2583bdb",
   "metadata": {},
   "outputs": [
    {
     "name": "stdout",
     "output_type": "stream",
     "text": [
      "양의 정수를 입력하세요(종료 : -1)10\n",
      "양의 정수를 입력하세요(종료 : -1)20\n",
      "양의 정수를 입력하세요(종료 : -1)30\n",
      "양의 정수를 입력하세요(종료 : -1)-1\n",
      "10->20->30->None "
     ]
    }
   ],
   "source": [
    "a=CircularLinkedQueue()\n",
    "num=0\n",
    "while num != -1:\n",
    "    num=int(input('양의 정수를 입력하세요(종료 : -1)'))\n",
    "    if num == -1:\n",
    "        break\n",
    "    else:\n",
    "        a.enqueue(num)\n",
    "\n",
    "if not a.isEmpty():\n",
    "    node=a.tail.link\n",
    "    while not node==a.tail:      \n",
    "        print(node.data,end='->')\n",
    "        node=node.link\n",
    "    print(node.data,end='->')    \n",
    "    print('None',end=' ') #tail 출력      \n",
    "            "
   ]
  },
  {
   "cell_type": "markdown",
   "id": "8936d2d6",
   "metadata": {},
   "source": [
    "# 6.13\n",
    "다음과 같이 연결 리스트에 사용자가 입력하는 값을 저장했다가 출력하는 프로그램을 작성하라."
   ]
  },
  {
   "cell_type": "code",
   "execution_count": 28,
   "id": "a9088fa0",
   "metadata": {},
   "outputs": [],
   "source": [
    "# 203p\n",
    "\n",
    "class LinkedList:\n",
    "    def __init__(self):\n",
    "        self.head=None\n",
    "    \n",
    "    def isEmpty(self): \n",
    "        return self.head==None\n",
    "    \n",
    "    def clear(self):\n",
    "        self.head=None\n",
    "    \n",
    "    def size(self):\n",
    "        n=self.head\n",
    "        count=0\n",
    "        \n",
    "        while not n==None:\n",
    "            n=n.link\n",
    "            count+=1\n",
    "        return count\n",
    "    \n",
    "    def display(self,msg='LinkedList'):\n",
    "        n=self.head\n",
    "        \n",
    "        print(msg,end='')\n",
    "        while not n==None:\n",
    "            print(n.data,end=' ')\n",
    "            n=n.link\n",
    "        print()\n",
    "    \n",
    "    def getNode(self,pos):\n",
    "        if pos<0:\n",
    "            return None\n",
    "        node=self.head\n",
    "        \n",
    "        while pos>0 and node !=None:\n",
    "            node=node.link\n",
    "            pos-=1\n",
    "            \n",
    "        return node\n",
    "    \n",
    "    def getEntry(self,pos):\n",
    "        node = self.getNode(pos)\n",
    "        if node==None:\n",
    "            return None\n",
    "        else:\n",
    "            return node.data\n",
    "        \n",
    "    def replace(self,pos,elem):\n",
    "        node=self.getNode(pos)\n",
    "        if node !=None:\n",
    "            node.data=elem\n",
    "            \n",
    "    def find(self,data):\n",
    "        node=self.head\n",
    "        \n",
    "        while not node == None:\n",
    "            if node.data==data:\n",
    "                return node\n",
    "        return node\n",
    "    \n",
    "    def insert(self,pos,elem):\n",
    "        before = self.getNode(pos-1)\n",
    "        if before ==None:\n",
    "            self.head=Node(elem,self.head)\n",
    "        else:\n",
    "            node = Node(elem,before.link)#원래 존재하는 link를 복사해서 가져오기\n",
    "            before.link=node#삽입\n",
    "    \n",
    "    def delete(self,pos):\n",
    "        before = self.getNode(pos-1)\n",
    "        if before==None:\n",
    "            if self.head is not Node:\n",
    "                self.head=self.head.link\n",
    "        \n",
    "        elif before.link!=None:\n",
    "            before.link=before.link.link\n",
    "        \n",
    "            "
   ]
  },
  {
   "cell_type": "code",
   "execution_count": 22,
   "id": "ba710a29",
   "metadata": {},
   "outputs": [
    {
     "name": "stdout",
     "output_type": "stream",
     "text": [
      "노드의 개수를 입력하세요:3\n",
      "노드 데이터 1를 입력하세요5\n",
      "노드 데이터 2를 입력하세요6\n",
      "노드 데이터 3를 입력하세요7\n",
      "LinkedList5 6 7 \n"
     ]
    }
   ],
   "source": [
    "node_size=int(input('노드의 개수를 입력하세요:'))\n",
    "\n",
    "l1=LinkedList()\n",
    "for i in range(node_size):\n",
    "    node_data=int(input('노드 데이터 %d를 입력하세요'%(i+1)))\n",
    "    l1.insert(i,node_data)\n",
    "    \n",
    "l1.display()"
   ]
  },
  {
   "cell_type": "markdown",
   "id": "848308ac",
   "metadata": {},
   "source": [
    "# 6.14\n",
    "다음과 같이 연결 리스트의 맨 끝에 새로운 노드를 추가하는 프로그램을 작성해보자. "
   ]
  },
  {
   "cell_type": "code",
   "execution_count": 23,
   "id": "8a0a6018",
   "metadata": {},
   "outputs": [
    {
     "name": "stdout",
     "output_type": "stream",
     "text": [
      "추가할 데이터를 입력하세요10\n",
      "LinkedList5 6 7 10 \n"
     ]
    }
   ],
   "source": [
    "pos=l1.size()\n",
    "new_data=int(input('추가할 데이터를 입력하세요'))\n",
    "l1.insert(pos,new_data)\n",
    "l1.display()"
   ]
  },
  {
   "cell_type": "markdown",
   "id": "ebbe27dd",
   "metadata": {},
   "source": [
    "# 6.15\n",
    "다음과 같이 생성된 연결 리스트의 맨 처음에 있는 노드를 삭제하는 프로그램을 작성하라."
   ]
  },
  {
   "cell_type": "code",
   "execution_count": 24,
   "id": "2cb3cde2",
   "metadata": {},
   "outputs": [
    {
     "name": "stdout",
     "output_type": "stream",
     "text": [
      "LinkedList6 7 10 \n"
     ]
    }
   ],
   "source": [
    "l1.delete(0)\n",
    "l1.display()"
   ]
  },
  {
   "cell_type": "markdown",
   "id": "fb94796d",
   "metadata": {},
   "source": [
    "# 6.16\n",
    "연결 리스트에 정수가 저장되어 있다. 연결 리스트의 모든 데이터 값을 더한 합을 출력하는 프로그램을 작성하라..\n"
   ]
  },
  {
   "cell_type": "code",
   "execution_count": 25,
   "id": "0a9109bc",
   "metadata": {},
   "outputs": [
    {
     "name": "stdout",
     "output_type": "stream",
     "text": [
      "0 번째 데이터는 6 입니다.\n",
      "1 번째 데이터는 7 입니다.\n",
      "2 번째 데이터는 10 입니다.\n",
      "23\n"
     ]
    }
   ],
   "source": [
    "n=l1.head\n",
    "sum_data=0\n",
    "counter=0\n",
    "while not n==None:\n",
    "    sum_data=sum_data+n.data\n",
    "    print(counter,'번째 데이터는',n.data,'입니다.')\n",
    "    counter+=1\n",
    "    n=n.link\n",
    "print(sum_data) "
   ]
  },
  {
   "cell_type": "markdown",
   "id": "1995c16d",
   "metadata": {},
   "source": [
    "# 6.17\n",
    "연결 리스트에서 특정한 데이터 값을 갖는 노드의 개수를 계산하는 함수를 작성하라."
   ]
  },
  {
   "cell_type": "code",
   "execution_count": 26,
   "id": "7122dc5b",
   "metadata": {},
   "outputs": [
    {
     "name": "stdout",
     "output_type": "stream",
     "text": [
      "찾을 숫자를 입력하세요10\n",
      "1\n"
     ]
    }
   ],
   "source": [
    "n=l1.head\n",
    "find_num=int(input('찾을 숫자를 입력하세요'))\n",
    "count=0\n",
    "while not n==None:\n",
    "    if(find_num==n.data):\n",
    "        count+=1\n",
    "    n=n.link\n",
    "print(count) "
   ]
  },
  {
   "cell_type": "code",
   "execution_count": null,
   "id": "c12aab75",
   "metadata": {},
   "outputs": [],
   "source": []
  }
 ],
 "metadata": {
  "kernelspec": {
   "display_name": "Python 3",
   "language": "python",
   "name": "python3"
  },
  "language_info": {
   "codemirror_mode": {
    "name": "ipython",
    "version": 3
   },
   "file_extension": ".py",
   "mimetype": "text/x-python",
   "name": "python",
   "nbconvert_exporter": "python",
   "pygments_lexer": "ipython3",
   "version": "3.6.8"
  }
 },
 "nbformat": 4,
 "nbformat_minor": 5
}
