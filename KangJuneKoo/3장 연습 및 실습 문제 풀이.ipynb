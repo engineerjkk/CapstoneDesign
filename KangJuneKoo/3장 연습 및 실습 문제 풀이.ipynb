{
 "cells": [
  {
   "cell_type": "markdown",
   "id": "507e5767",
   "metadata": {},
   "source": [
    "# 3.1\n",
    "리스트와 집합의 공통점과 차이점을 설명하라.\n",
    "- 차이점 : 리스트는 항목들 사이에 순서가 있다는 점에서 집합과 다르다. 집합에서는 원소들 사이에 순서의 개념이 없다. 집합은 우너소의 중복도 허용하지 않지만 리스트에서는 이러한 제한도 없다.\n",
    "- 공통점 : 데이터를 저장한다."
   ]
  },
  {
   "cell_type": "markdown",
   "id": "fa170c2e",
   "metadata": {},
   "source": [
    "# 3.2\n",
    "공백 상태의 리스트가 있다. 다음 연산을 차례로 수행한 후에 리스트의 내용을 순서대로 적어라."
   ]
  },
  {
   "cell_type": "code",
   "execution_count": 16,
   "id": "6bd1c7aa",
   "metadata": {},
   "outputs": [],
   "source": [
    "class ArrayList:\n",
    "    def __init__(self):\n",
    "        self.items=[]\n",
    "        \n",
    "    def insert(self,pos,elem):\n",
    "        self.items.insert(pos,elem)\n",
    "    \n",
    "    def size(self):\n",
    "        return len(self.items)\n",
    "    \n",
    "    def delete(self,pos):\n",
    "        return self.items.pop(pos)\n",
    "    \n",
    "    def replace(self,pos,elem):\n",
    "        self.items[pos]=elem"
   ]
  },
  {
   "cell_type": "code",
   "execution_count": 17,
   "id": "2a69d0ea",
   "metadata": {},
   "outputs": [],
   "source": [
    "box=ArrayList()"
   ]
  },
  {
   "cell_type": "code",
   "execution_count": 18,
   "id": "d70b19bf",
   "metadata": {},
   "outputs": [],
   "source": [
    "box.insert(0,10)"
   ]
  },
  {
   "cell_type": "code",
   "execution_count": 19,
   "id": "8e3986c0",
   "metadata": {},
   "outputs": [],
   "source": [
    "box.insert(1,20)\n",
    "box.insert(0,30)\n",
    "box.insert(2,40)\n",
    "box.insert(box.size(),50)"
   ]
  },
  {
   "cell_type": "code",
   "execution_count": 20,
   "id": "10b65fc0",
   "metadata": {},
   "outputs": [
    {
     "data": {
      "text/plain": [
       "[30, 10, 40, 20, 50]"
      ]
     },
     "execution_count": 20,
     "metadata": {},
     "output_type": "execute_result"
    }
   ],
   "source": [
    "box.items"
   ]
  },
  {
   "cell_type": "markdown",
   "id": "b9fd9de3",
   "metadata": {},
   "source": [
    "# 3.3\n",
    "앞의 결과에서 다음 연산을 차례로 수행한 후에 리스트의 내용을 순서대로 적어라"
   ]
  },
  {
   "cell_type": "code",
   "execution_count": 21,
   "id": "6d674fa0",
   "metadata": {},
   "outputs": [
    {
     "data": {
      "text/plain": [
       "[30, 60, 40, 20, 50]"
      ]
     },
     "execution_count": 21,
     "metadata": {},
     "output_type": "execute_result"
    }
   ],
   "source": [
    "box.insert(1,60)\n",
    "box.replace(2,70)\n",
    "box.delete(2)\n",
    "box.items"
   ]
  },
  {
   "cell_type": "markdown",
   "id": "e365d8a2",
   "metadata": {},
   "source": [
    "# ~3.4~\n",
    "3.3절에서 구현한 리스트는 임의의 위치에 항목의 삽입과 삭제가 가능하다. 우리는 이 리스트의 후단만을 사용해 삽입과 삭제 연산을 하려고 한다. 이때 삭제 연산의 시간복잡도는 항상 O(1)이지만 삽입 연산의 시간 복잡도는 \"대부분의 경우\" O(1)이다. 그 이유를 설명하라.\n"
   ]
  },
  {
   "cell_type": "markdown",
   "id": "b89bd803",
   "metadata": {},
   "source": [
    "# 3.5\n",
    "파이썬 리스트 내의 항목들 중에서 가장 큰 항목을 찾아 반환하는 함수를 작성하라."
   ]
  },
  {
   "cell_type": "code",
   "execution_count": 22,
   "id": "3196c694",
   "metadata": {},
   "outputs": [],
   "source": [
    "def find_Max(input_list):\n",
    "    max=input_list[0]\n",
    "    \n",
    "    for i in range(len(input_list)):\n",
    "        if max<input_list[i]:\n",
    "            max=input_list[i]\n",
    "            \n",
    "    print('max value is',max)"
   ]
  },
  {
   "cell_type": "code",
   "execution_count": 23,
   "id": "e3206768",
   "metadata": {},
   "outputs": [
    {
     "name": "stdout",
     "output_type": "stream",
     "text": [
      "max value is 7567\n"
     ]
    }
   ],
   "source": [
    "l1=[123,6546,7567,4532]\n",
    "find_Max(l1)"
   ]
  },
  {
   "cell_type": "markdown",
   "id": "f726bf8c",
   "metadata": {},
   "source": [
    "# 3.6\n",
    "파이썬 리스트 내의 항목들 중에서 가장 작은 항목과 큰 항목을 모두 찾아 한꺼번에 반환하는 함수를 작성하라. 두 값의 반환을 위해 튜플을 사용할 수 있다."
   ]
  },
  {
   "cell_type": "code",
   "execution_count": 24,
   "id": "764a5211",
   "metadata": {},
   "outputs": [],
   "source": [
    "def findminmax(input_list):\n",
    "    max=min=input_list[0]\n",
    "    \n",
    "    for i in range(1,len(input_list)):\n",
    "        if max<input_list[i]:\n",
    "            max=input_list[i]\n",
    "        if min>input_list[i]:\n",
    "            min=input_list[i]\n",
    "        return min,max"
   ]
  },
  {
   "cell_type": "code",
   "execution_count": 25,
   "id": "7408b678",
   "metadata": {},
   "outputs": [],
   "source": [
    "x,y=findminmax(l1)"
   ]
  },
  {
   "cell_type": "code",
   "execution_count": 26,
   "id": "302dac55",
   "metadata": {},
   "outputs": [
    {
     "data": {
      "text/plain": [
       "123"
      ]
     },
     "execution_count": 26,
     "metadata": {},
     "output_type": "execute_result"
    }
   ],
   "source": [
    "x"
   ]
  },
  {
   "cell_type": "code",
   "execution_count": 27,
   "id": "57f50a73",
   "metadata": {},
   "outputs": [
    {
     "data": {
      "text/plain": [
       "6546"
      ]
     },
     "execution_count": 27,
     "metadata": {},
     "output_type": "execute_result"
    }
   ],
   "source": [
    "y"
   ]
  },
  {
   "cell_type": "markdown",
   "id": "c053ba20",
   "metadata": {},
   "source": [
    "# 3.7\n",
    "두 개의 리스트를 입력 받아 두 리스트에 동일한 항목이 있으면 True를 없으면 False를 반환하는 함수를 작성하라"
   ]
  },
  {
   "cell_type": "code",
   "execution_count": 41,
   "id": "ed7014f2",
   "metadata": {},
   "outputs": [
    {
     "name": "stdout",
     "output_type": "stream",
     "text": [
      "False\n"
     ]
    }
   ],
   "source": [
    "a=[1,2,3,4,5]\n",
    "b=[6,7,8,9]\n",
    "c=list(set(a).intersection(b))\n",
    "if(c!=[]):\n",
    "    print(True)\n",
    "else:\n",
    "    print(False)"
   ]
  },
  {
   "cell_type": "code",
   "execution_count": 65,
   "id": "0956159a",
   "metadata": {},
   "outputs": [
    {
     "data": {
      "text/plain": [
       "False"
      ]
     },
     "execution_count": 65,
     "metadata": {},
     "output_type": "execute_result"
    }
   ],
   "source": [
    "c=[1,2,3,4,5]\n",
    "d=[6,7,8,9,10]\n",
    "def find(a,b):\n",
    "    k=0\n",
    "    for i in range(len(a)):\n",
    "        for j in range(len(b)):\n",
    "            #print(a[i],b[j])\n",
    "            if a[i]==b[j]:\n",
    "                return True\n",
    "                k=1\n",
    "    if(k==0):\n",
    "        return False\n",
    "find(c,d)\n"
   ]
  },
  {
   "cell_type": "code",
   "execution_count": null,
   "id": "dcf1013b",
   "metadata": {},
   "outputs": [],
   "source": [
    "c=[1,2,3,4,5]\n",
    "d=[6,7,8,9,10]\n",
    "find(c,d)"
   ]
  },
  {
   "cell_type": "markdown",
   "id": "cfae659b",
   "metadata": {},
   "source": [
    "# 3.8\n",
    "항목들이 오름차순으로 정렬된 두 개의 리스트를 받아 하나로 병합하는 함수를 작성하라. 단 병합된 리스트의 모든 항목들도 정렬되어 있어야 한다."
   ]
  },
  {
   "cell_type": "code",
   "execution_count": 66,
   "id": "41b09a7b",
   "metadata": {},
   "outputs": [],
   "source": [
    "def merge_orderedlist(l1,l2):\n",
    "    list1=l1.copy()\n",
    "    list2=l2.copy()\n",
    "    \n",
    "    return_list=[]\n",
    "    while len(list1) !=0 and len(list2) !=0:\n",
    "        if list1[0]<=list2[0]:\n",
    "            return_list.append(list1.pop(0))\n",
    "        else:\n",
    "            return_list.append(list2.pop(0))\n",
    "    \n",
    "    if len(list1)==0:\n",
    "        return_list=return_list + list2\n",
    "    else:\n",
    "        return_list=return_list+list1\n",
    "        \n",
    "    print(return_list)"
   ]
  },
  {
   "cell_type": "code",
   "execution_count": 67,
   "id": "42b55c44",
   "metadata": {},
   "outputs": [],
   "source": [
    "l1=[1,3,5,7,9]\n",
    "l2=[2,4,6,8,10]"
   ]
  },
  {
   "cell_type": "code",
   "execution_count": 68,
   "id": "e4dcba79",
   "metadata": {},
   "outputs": [
    {
     "name": "stdout",
     "output_type": "stream",
     "text": [
      "[1, 2, 3, 4, 5, 6, 7, 8, 9, 10]\n"
     ]
    }
   ],
   "source": [
    "merge_orderedlist(l1,l2)"
   ]
  },
  {
   "cell_type": "markdown",
   "id": "faa0dc2f",
   "metadata": {},
   "source": [
    "# ~3.9~ \n",
    "두 집합 A와 B가 있을 때, A=B인 경우에도 A는 B의 부분집합이 된다. A가 B의 부분집합이지만 A와 B가 같지 않은 경우 A는 B의 진부분집합(proper subset)이다. 어떤 집합이 다른 집합의 진부분집합인지를 검사하는 메소드를 3.6절의 Set클래스의 추가하라."
   ]
  },
  {
   "cell_type": "code",
   "execution_count": null,
   "id": "d718a865",
   "metadata": {},
   "outputs": [],
   "source": []
  }
 ],
 "metadata": {
  "kernelspec": {
   "display_name": "Python 3",
   "language": "python",
   "name": "python3"
  },
  "language_info": {
   "codemirror_mode": {
    "name": "ipython",
    "version": 3
   },
   "file_extension": ".py",
   "mimetype": "text/x-python",
   "name": "python",
   "nbconvert_exporter": "python",
   "pygments_lexer": "ipython3",
   "version": "3.6.8"
  }
 },
 "nbformat": 4,
 "nbformat_minor": 5
}
