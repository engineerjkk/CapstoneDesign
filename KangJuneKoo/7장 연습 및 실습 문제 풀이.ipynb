{
 "cells": [
  {
   "cell_type": "markdown",
   "id": "75f1c25c",
   "metadata": {},
   "source": [
    "# 7.1\n",
    "다음 자료에 대하여 \"선택 정렬\"를 사용하여 오름차순으로 정렬할 경우 PASS 3의 결과는?\n",
    "1) 3,4,7,9,8"
   ]
  },
  {
   "cell_type": "markdown",
   "id": "b8d384f1",
   "metadata": {},
   "source": [
    "# 7.2\n",
    "다음 초기 자료에 대하여 삽입 정렬(Insertion Sort)을 이용하여 오름차순 정렬한 경우 PASS 1의 결과는?  \n",
    "4) 3,8,4,9,7"
   ]
  },
  {
   "cell_type": "markdown",
   "id": "6df2ebc2",
   "metadata": {},
   "source": [
    "# ~7.3~\n",
    "다음 자료를 버블 정렬을 이용하여 오름차순으로 정렬할 경우 PASS 1의 결과는?"
   ]
  },
  {
   "cell_type": "markdown",
   "id": "170a4b78",
   "metadata": {},
   "source": [
    "# 7.4\n",
    "다음 중 입력 자료의 구성과 상관없이 자료 이동 횟수가 결정되는 정렬 알고리즘을 골라라\n",
    "4) 퀵 정렬"
   ]
  },
  {
   "cell_type": "markdown",
   "id": "24f523db",
   "metadata": {},
   "source": [
    "# 7.5 \n",
    "다음은 항목을 오름차순으로 정렬하는 삽입 정렬 함수이다. 빈 칸을 채워라"
   ]
  },
  {
   "cell_type": "code",
   "execution_count": 9,
   "id": "bb0df8dc",
   "metadata": {},
   "outputs": [],
   "source": [
    "def insertion_sort(A):\n",
    "    n=len(A)\n",
    "    for i in range(1,n):\n",
    "        key=A[i]\n",
    "        j=i-1\n",
    "        while j>=0 and A[j]>key:\n",
    "            A[j+1]=A[j]\n",
    "            j-=1\n",
    "        A[j+1]=key\n",
    "    return A\n",
    "  #      printStep(a,i)"
   ]
  },
  {
   "cell_type": "code",
   "execution_count": 10,
   "id": "49fbb38b",
   "metadata": {},
   "outputs": [
    {
     "data": {
      "text/plain": [
       "[0, 1, 3, 5, 7, 9]"
      ]
     },
     "execution_count": 10,
     "metadata": {},
     "output_type": "execute_result"
    }
   ],
   "source": [
    "a=[1,3,5,7,9,0]\n",
    "c=insertion_sort(a)\n",
    "c"
   ]
  },
  {
   "cell_type": "markdown",
   "id": "4140eabb",
   "metadata": {},
   "source": [
    "# 7.6\n",
    "다음의 정렬기법을 이용하여 정수 배열을 오름차순으로 정렬하라. 각 단계에서의 배열의 내용을 나타내어라"
   ]
  },
  {
   "cell_type": "markdown",
   "id": "6ad98dde",
   "metadata": {},
   "source": [
    "선택정렬"
   ]
  },
  {
   "cell_type": "code",
   "execution_count": 14,
   "id": "51889e25",
   "metadata": {},
   "outputs": [],
   "source": [
    "def selection_sort(A):\n",
    "    n=len(A)\n",
    "    for i in range(n-1):\n",
    "        least=i\n",
    "        for j in range(i+1,n):\n",
    "            if(A[j]<A[least]):\n",
    "                least=j\n",
    "        A[i],A[least]=A[least],A[i]\n",
    "    return A"
   ]
  },
  {
   "cell_type": "code",
   "execution_count": 12,
   "id": "7a5bc8a4",
   "metadata": {},
   "outputs": [],
   "source": [
    "def insertion_sort(A):\n",
    "    n=len(A)\n",
    "    for i in range(1,n):\n",
    "        key=A[i]\n",
    "        j=i-1\n",
    "        while j>=0 and A[j]>key:\n",
    "            A[j+1]=A[j]\n",
    "            j-=1\n",
    "        A[j+1]=key\n",
    "    return A"
   ]
  },
  {
   "cell_type": "code",
   "execution_count": 15,
   "id": "baf4f8c7",
   "metadata": {},
   "outputs": [],
   "source": [
    "def bubble_sort(A):\n",
    "    n=len(A)\n",
    "    for i in range(n-1,0,-1):\n",
    "        bChanged=False\n",
    "        for j in range(i):\n",
    "            if(A[j]>A[j+1]):\n",
    "                A[j],A[j+1]=A[j+1],A[j]\n",
    "                bChanged=True\n",
    "        if not bChanged:\n",
    "            break\n",
    "    return A"
   ]
  },
  {
   "cell_type": "code",
   "execution_count": 17,
   "id": "0a0b6167",
   "metadata": {},
   "outputs": [
    {
     "name": "stdout",
     "output_type": "stream",
     "text": [
      "[3, 4, 5, 6, 7, 7, 8, 9]\n",
      "[3, 4, 5, 6, 7, 7, 8, 9]\n",
      "[3, 4, 5, 6, 7, 7, 8, 9]\n"
     ]
    }
   ],
   "source": [
    "a=[7,4,9,6,3,8,7,5]\n",
    "selection=selection_sort(a)\n",
    "print(selection)\n",
    "insertion=insertion_sort(a)\n",
    "print(insertion)\n",
    "bubble=bubble_sort(a)\n",
    "print(bubble)"
   ]
  },
  {
   "cell_type": "markdown",
   "id": "f880d1ad",
   "metadata": {},
   "source": [
    "# 7.7\n",
    "선택 정렬이 안정성을 만족하지 않은 경우의 예를 보여라.\n",
    "- 30(1),30(2),10,20 을 정렬할 시, 10,20,30(2),30(1) 와 같이 바뀌는 경우를 말한다. 즉, 30과 30의 위치가 바뀌었기에 안정성을 만족하지 못한다.  "
   ]
  },
  {
   "cell_type": "markdown",
   "id": "341c352e",
   "metadata": {},
   "source": [
    "# 7.8\n",
    "삽입 정렬이 안정성을 만족하는 이유를 설명해 보라.\n",
    "- 정렬되지 않은 부분은 앞에서부터 뒤로, 정렬된 부분은 뒤에서부터 앞으로 비교하므로 데이터가 들어온 순서가 유지되는 것을 알 수 있다. \n",
    "- ex) 4(0), 2(0), 2(1), 1(0) \n",
    "1. 2번 째 원소 2(0)을 4(0) 앞에 삽입한다.\n",
    "- 2(0), 4(0), 2(1), 1(0)\n",
    "2. 3번째 원소 2(1)을 4(0) 앞에 삽입한다.\n",
    "- 2(0), 2(1), 4(0), 1(0)\n",
    "3. 4번째 원소 1(0)을 4(0) 앞에 삽입한다.\n",
    "- 2(0), 2(1), 1(0), 4(0)\n",
    "- 따라서 안정하다. "
   ]
  },
  {
   "cell_type": "markdown",
   "id": "017f60be",
   "metadata": {},
   "source": [
    "# 7.9\n",
    "삽입 정렬을 위한 최선의 입력과 최악의 입력을 시간 복잡도를 이용해 설명하라\n",
    "- 최선의 입력 : 입력 자료가 이미 정렬되어 있는 경우\n",
    "- 최악의 경우 : 입력 자료가 역으로 정렬된 경우"
   ]
  },
  {
   "cell_type": "markdown",
   "id": "efbecbca",
   "metadata": {},
   "source": [
    "# 7.10\n",
    "다음 중 정렬되지 않은 테이블에서도 원하는 레커도를 찾을 수 있는 탐색 방법을 골라라\n",
    "- 4) 해싱"
   ]
  },
  {
   "cell_type": "markdown",
   "id": "91f9412d",
   "metadata": {},
   "source": [
    "# 7.11\n",
    "이진 탐색 알고리즘의 특징이 아닌 것은?\n",
    "1) 탐색 효율이 좋고 탐색 시간이 적게 소요된다. O\n",
    "2) 검색할 데이터가 정렬되어 있어야 한다. O\n",
    "3) 피보나치 수열에 따라 다음에 비교할 대상을 선정하여 검색한다. X\n",
    "4) 비교를 할 때마다 검색 대상이 되는 데이터의 수가 절반으로 줄어든다. O "
   ]
  },
  {
   "cell_type": "markdown",
   "id": "bc9339ff",
   "metadata": {},
   "source": [
    "# 7.12\n",
    "키 값 28을 가지고 아래의 리스트를 탐색할 때 다음의 탐색 방법에 따른 탐색 과정을 그리고 탐색 시에 필요한 비교 연산 횟수를 구하여라\n",
    "1) 순차 탐색 : 10회  \n",
    "2) 이진 탐색 : 3회  \n",
    "~3) 보간 탐색 :~ "
   ]
  },
  {
   "cell_type": "markdown",
   "id": "68fb0824",
   "metadata": {},
   "source": [
    "# 7.13\n",
    "크기가 13인 해시테이블에서 입력 자료 27과 130은 어떤 인덱스로 대응되는가? 해싱 함수는 h(key)=key%13라고 하자.\n",
    "- 1,0"
   ]
  },
  {
   "cell_type": "markdown",
   "id": "6a152862",
   "metadata": {},
   "source": [
    "# 7.14 (귀찮다. 다음에 푼다.)\n",
    "크기가 11인 해시테이블을 가정하자. 해시함수로는 다음을 사용한다.  \n",
    "h(k)=k mod 11   \n",
    "입력 자료가 다음과 같은 순서로 입력된다고 하면 아래의 각 경우에 대하여 해시테이블의 내용을 그려라.  \n",
    "12,44,13,88,23,94,11,39,20,16,5  \n",
    "1. 충돌을 선형조사법을 사용하여 처리한다.\n",
    "2. 충돌을 이차조사법을 사용하여 처리한다.\n",
    "3. 충돌을 다음과 같은 이중 해시법을 사용하여 처리한다.\n",
    "h;(k)=7-(j mod 7)  \n",
    "4. 충돌을 체인법을 사용하여 처리한다."
   ]
  },
  {
   "cell_type": "markdown",
   "id": "b737faf1",
   "metadata": {},
   "source": [
    "# 7.15 \n",
    "선형 조사법에서 삭제 연산에서 발생할 수 있는 문제와 해결 방법을 설명하라.\n",
    "- 한번 충돌이 발생한 위치에서 항목들이 집중되는 현상을 볼 수 있다. 이것을 군집화(clustering) 현상이라고 한다. 선형 조사법은 간단하지만 오버플로가 자주 발생하면 군집화 현상에 따라 탐색의 효율이 크게 저하될 수 있다."
   ]
  },
  {
   "cell_type": "markdown",
   "id": "27965dc9",
   "metadata": {},
   "source": [
    "# 7.16\n",
    "선형 조사법에서 탐색이 종료(성공 또는 실패)되는 모든 상황을 설명하라  \n",
    "1. 해당 키의 레코드 찾기\n",
    "2. 레코드가 없는 버킷을 만나기\n",
    "3. 모든 버킷을 다 검사"
   ]
  },
  {
   "cell_type": "markdown",
   "id": "a13be0b7",
   "metadata": {},
   "source": [
    "# 7.17\n",
    "좋은 해시 함수의 조건을 설명하라.\n",
    "- 충돌이 적어야 하고, 주소가 테이블에서 고르게 분포되어야 하며, 계산이 빨라야 한다. 예를 들어, 영어 단어의 첫 문자만을 취하여 해시 주소를 만드는 것은 좋지 않다. 왜냐하면 'x'나 'z'로 시작하는 단어는 별로 없으므로 해시 테이블을 고르게 사용하지 못한다. "
   ]
  },
  {
   "cell_type": "code",
   "execution_count": null,
   "id": "53c645ec",
   "metadata": {},
   "outputs": [],
   "source": []
  }
 ],
 "metadata": {
  "kernelspec": {
   "display_name": "Python 3",
   "language": "python",
   "name": "python3"
  },
  "language_info": {
   "codemirror_mode": {
    "name": "ipython",
    "version": 3
   },
   "file_extension": ".py",
   "mimetype": "text/x-python",
   "name": "python",
   "nbconvert_exporter": "python",
   "pygments_lexer": "ipython3",
   "version": "3.6.8"
  }
 },
 "nbformat": 4,
 "nbformat_minor": 5
}
