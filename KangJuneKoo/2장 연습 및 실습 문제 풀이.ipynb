{
 "cells": [
  {
   "cell_type": "markdown",
   "id": "d599bd34",
   "metadata": {},
   "source": [
    "# 2.1\n",
    "구구단 6단을 계산하여 결과를 순서대로 출력하는 코드를 for 문을 이용하여 구현하라."
   ]
  },
  {
   "cell_type": "code",
   "execution_count": 13,
   "id": "9ed6f379",
   "metadata": {},
   "outputs": [],
   "source": [
    "def mul(n):\n",
    "    \n",
    "    for i in range(1,10):\n",
    "        print(n,' * ',i,' = ', n*i)"
   ]
  },
  {
   "cell_type": "code",
   "execution_count": 14,
   "id": "bb2cfff0",
   "metadata": {},
   "outputs": [
    {
     "name": "stdout",
     "output_type": "stream",
     "text": [
      "6  *  1  =  6\n",
      "6  *  2  =  12\n",
      "6  *  3  =  18\n",
      "6  *  4  =  24\n",
      "6  *  5  =  30\n",
      "6  *  6  =  36\n",
      "6  *  7  =  42\n",
      "6  *  8  =  48\n",
      "6  *  9  =  54\n"
     ]
    }
   ],
   "source": [
    "mul(6)"
   ]
  },
  {
   "cell_type": "markdown",
   "id": "50eb13ea",
   "metadata": {},
   "source": [
    "# 2.2\n",
    "위 문제를 while 문을 이용하여 다시 구현하라"
   ]
  },
  {
   "cell_type": "code",
   "execution_count": 23,
   "id": "2d3823ab",
   "metadata": {},
   "outputs": [],
   "source": [
    "def mul(n):\n",
    "    i=1\n",
    "    while i<10:\n",
    "        print(n,' * ',i,' = ',n*i)\n",
    "        i=i+1"
   ]
  },
  {
   "cell_type": "code",
   "execution_count": 24,
   "id": "d486745e",
   "metadata": {},
   "outputs": [
    {
     "name": "stdout",
     "output_type": "stream",
     "text": [
      "6  *  1  =  6\n",
      "6  *  2  =  12\n",
      "6  *  3  =  18\n",
      "6  *  4  =  24\n",
      "6  *  5  =  30\n",
      "6  *  6  =  36\n",
      "6  *  7  =  42\n",
      "6  *  8  =  48\n",
      "6  *  9  =  54\n"
     ]
    }
   ],
   "source": [
    "mul(6)"
   ]
  },
  {
   "cell_type": "markdown",
   "id": "474233dd",
   "metadata": {},
   "source": [
    "# 2.3\n",
    "구구단 6단을 계산 결과를 역순으로 출력하는 코드를 for와 range를 이용하여 구현하라."
   ]
  },
  {
   "cell_type": "code",
   "execution_count": 29,
   "id": "09e64597",
   "metadata": {},
   "outputs": [],
   "source": [
    "def mul(n):\n",
    "    \n",
    "    for i in range(9,0,-1):\n",
    "        print(n,' * ',i,' = ', n*i)"
   ]
  },
  {
   "cell_type": "code",
   "execution_count": 30,
   "id": "10616b7b",
   "metadata": {},
   "outputs": [
    {
     "name": "stdout",
     "output_type": "stream",
     "text": [
      "6  *  9  =  54\n",
      "6  *  8  =  48\n",
      "6  *  7  =  42\n",
      "6  *  6  =  36\n",
      "6  *  5  =  30\n",
      "6  *  4  =  24\n",
      "6  *  3  =  18\n",
      "6  *  2  =  12\n",
      "6  *  1  =  6\n"
     ]
    }
   ],
   "source": [
    "mul(6)"
   ]
  },
  {
   "cell_type": "markdown",
   "id": "aad3fc38",
   "metadata": {},
   "source": [
    "# 2.4\n",
    "섭씨온도를 화씨온도로 변환하는 함수를 구현하라. 섭씨온도(C)를 화씨온도(F)로 변환하는 수식은 F=32+180/100+C 이다."
   ]
  },
  {
   "cell_type": "code",
   "execution_count": 33,
   "id": "1fea0fd8",
   "metadata": {},
   "outputs": [],
   "source": [
    "def trans(c):\n",
    "    F=32+(180/100*c)\n",
    "    return F"
   ]
  },
  {
   "cell_type": "code",
   "execution_count": 34,
   "id": "e9827717",
   "metadata": {},
   "outputs": [
    {
     "name": "stdout",
     "output_type": "stream",
     "text": [
      "86.0\n"
     ]
    }
   ],
   "source": [
    "print(trans(30))"
   ]
  },
  {
   "cell_type": "code",
   "execution_count": null,
   "id": "b1a50f6c",
   "metadata": {},
   "outputs": [],
   "source": [
    "def trans(c):\n",
    "    F=32+(180/100*c)\n",
    "    return F"
   ]
  },
  {
   "cell_type": "markdown",
   "id": "045cb988",
   "metadata": {},
   "source": [
    "# 2.6\n",
    "A=[1,2,3,4]와 같이 리스트를 선언하고 이 시스트의 모든 값을 역순으로 출력하는 코드를 구현하라. 단, 인덱스 값으로는 음수만을 사용하라."
   ]
  },
  {
   "cell_type": "code",
   "execution_count": 36,
   "id": "1832249a",
   "metadata": {},
   "outputs": [
    {
     "data": {
      "text/plain": [
       "[4, 3, 2, 1]"
      ]
     },
     "execution_count": 36,
     "metadata": {},
     "output_type": "execute_result"
    }
   ],
   "source": [
    "A=[1,2,3,4]\n",
    "A[::-1]"
   ]
  },
  {
   "cell_type": "markdown",
   "id": "1507e6ee",
   "metadata": {},
   "source": [
    "# 2.7\n",
    "리스트의 모든 값을 더해 결과를 반환하는 함수를 구현하라"
   ]
  },
  {
   "cell_type": "code",
   "execution_count": 39,
   "id": "4a6d3a28",
   "metadata": {},
   "outputs": [
    {
     "name": "stdout",
     "output_type": "stream",
     "text": [
      "45\n"
     ]
    }
   ],
   "source": [
    "A=[1,2,3,4,5,6,7,8,9]\n",
    "\n",
    "def sumation(n):\n",
    "    sum=0\n",
    "    for i in range(len(n)):\n",
    "        sum=sum+n[i]\n",
    "    return sum\n",
    "\n",
    "print(sumation(A))\n",
    "        "
   ]
  },
  {
   "cell_type": "markdown",
   "id": "cbfb2630",
   "metadata": {},
   "source": [
    "# 2.8\n",
    "문자열 msg = \"Data Structures in Python\"를 선언하고, 이 문자열을 먼저 그대로 출력하고, 다음으로 모두 대문자로 바꿔서 출력하고, 마지막으로 모두 소문자로 바꿔 출력하는 코드를 작성하라."
   ]
  },
  {
   "cell_type": "code",
   "execution_count": 40,
   "id": "1aa4f124",
   "metadata": {},
   "outputs": [
    {
     "name": "stdout",
     "output_type": "stream",
     "text": [
      "Data Structures in Python\n",
      "DATA STRUCTURES IN PYTHON\n",
      "data structures in python\n"
     ]
    }
   ],
   "source": [
    "msg=\"Data Structures in Python\"\n",
    "\n",
    "print(msg)\n",
    "print(msg.upper())\n",
    "print(msg.lower())"
   ]
  },
  {
   "cell_type": "markdown",
   "id": "8fa5f334",
   "metadata": {},
   "source": [
    "# 2.9\n",
    "어느 식당의 음식에 대한 가격 정보를 다음과 같이 딕셔너리로 표현하자.  \n",
    "price={'콩나물해장국':4500, '갈비탕':9000, '돈가스':8000}    \n",
    "여기에 새로운 메뉴 '팟타이'를 7000원에 추가하고, 모든 메뉴와 가격을 출력하는 코드를 작성해 보라\n"
   ]
  },
  {
   "cell_type": "code",
   "execution_count": 59,
   "id": "194482d0",
   "metadata": {},
   "outputs": [],
   "source": [
    "price={'콩나물해장국':4500,'갈비탕':9000,'돈가스':8000}\n",
    "price['팟타이']=7000"
   ]
  },
  {
   "cell_type": "code",
   "execution_count": 60,
   "id": "142a58a1",
   "metadata": {},
   "outputs": [
    {
     "name": "stdout",
     "output_type": "stream",
     "text": [
      "{'콩나물해장국': 4500, '갈비탕': 9000, '돈가스': 8000, '팟타이': 7000}\n"
     ]
    }
   ],
   "source": [
    "print(price)"
   ]
  },
  {
   "cell_type": "markdown",
   "id": "5cee2ee8",
   "metadata": {},
   "source": [
    "# 2.10\n",
    "위 문제에서 모든 메뉴의 가격을 500원 내리는 코드를 작성해 보라."
   ]
  },
  {
   "cell_type": "code",
   "execution_count": 61,
   "id": "613f1921",
   "metadata": {},
   "outputs": [],
   "source": [
    "for i in price:\n",
    "    price[i]=price[i]-500"
   ]
  },
  {
   "cell_type": "code",
   "execution_count": 63,
   "id": "39beadfc",
   "metadata": {},
   "outputs": [
    {
     "data": {
      "text/plain": [
       "{'콩나물해장국': 4000, '갈비탕': 8500, '돈가스': 7500, '팟타이': 6500}"
      ]
     },
     "execution_count": 63,
     "metadata": {},
     "output_type": "execute_result"
    }
   ],
   "source": [
    "price"
   ]
  },
  {
   "cell_type": "markdown",
   "id": "3e88705a",
   "metadata": {},
   "source": [
    "여기서 꼭 i는 상수이란 생각을 없애자 for 문에서 i는 문자도 될 수 있다."
   ]
  },
  {
   "cell_type": "markdown",
   "id": "572c393f",
   "metadata": {},
   "source": [
    "# 2.11\n",
    "1부터 n까지의 숫자를 전부 합하여 반환하는 순환적인 함수를 작성하라."
   ]
  },
  {
   "cell_type": "code",
   "execution_count": 71,
   "id": "9dc538e7",
   "metadata": {},
   "outputs": [],
   "source": [
    "def sum(n):\n",
    "    if(n==1):\n",
    "        return 1\n",
    "    else:\n",
    "        return n+sum(n-1)    "
   ]
  },
  {
   "cell_type": "code",
   "execution_count": 72,
   "id": "353486e9",
   "metadata": {},
   "outputs": [
    {
     "data": {
      "text/plain": [
       "55"
      ]
     },
     "execution_count": 72,
     "metadata": {},
     "output_type": "execute_result"
    }
   ],
   "source": [
    "sum(10)"
   ]
  },
  {
   "cell_type": "markdown",
   "id": "972c501b",
   "metadata": {},
   "source": [
    "# 2.12\n",
    "다음을 계산하는 순환적인 함수를 작성하라.  \n",
    "1+1/2+1/3+...+1/n"
   ]
  },
  {
   "cell_type": "code",
   "execution_count": 73,
   "id": "b1487445",
   "metadata": {},
   "outputs": [],
   "source": [
    "def f1(n):\n",
    "    if n==1:\n",
    "        return 1\n",
    "    else:\n",
    "        return 1/n+f1(n-1)"
   ]
  },
  {
   "cell_type": "code",
   "execution_count": 74,
   "id": "7abbee84",
   "metadata": {},
   "outputs": [
    {
     "name": "stdout",
     "output_type": "stream",
     "text": [
      "2.9289682539682538\n"
     ]
    }
   ],
   "source": [
    "print(f1(10))"
   ]
  },
  {
   "cell_type": "markdown",
   "id": "170792b4",
   "metadata": {},
   "source": [
    "# 2.13\n",
    "이항계수(binomial coefficient)를 계산하는 순환함수를 작성하라. 이항계수는 다음과 같이 순환적으로 정의된다. \n",
    "https://blockdmask.tistory.com/93"
   ]
  },
  {
   "cell_type": "code",
   "execution_count": 75,
   "id": "f6f7da9f",
   "metadata": {},
   "outputs": [],
   "source": [
    "def bc(n,r):\n",
    "    if(n==r or r==0):\n",
    "        return 1\n",
    "    return bc(n-1,r-1)+bc(n-1,r)"
   ]
  },
  {
   "cell_type": "code",
   "execution_count": 76,
   "id": "edca0eb3",
   "metadata": {},
   "outputs": [
    {
     "name": "stdout",
     "output_type": "stream",
     "text": [
      "30045015\n"
     ]
    }
   ],
   "source": [
    "print(bc(30,10))"
   ]
  },
  {
   "cell_type": "markdown",
   "id": "4fd88121",
   "metadata": {},
   "source": [
    "# 2.14\n",
    "이항계수를 구하는 함수를 반복 구조로 구현하라."
   ]
  },
  {
   "cell_type": "code",
   "execution_count": 89,
   "id": "7769681c",
   "metadata": {},
   "outputs": [],
   "source": [
    "def fac(num):\n",
    "    if(num==0):\n",
    "        return 1\n",
    "    result=1\n",
    "    \n",
    "    for i in range(num,0,-1):\n",
    "        result=result*i\n",
    "    return result"
   ]
  },
  {
   "cell_type": "code",
   "execution_count": 91,
   "id": "8a4a6a4a",
   "metadata": {},
   "outputs": [
    {
     "name": "stdout",
     "output_type": "stream",
     "text": [
      "30045015.0\n"
     ]
    }
   ],
   "source": [
    "solution=fac(30)/(fac(10)*fac(30-10))\n",
    "print(solution)"
   ]
  },
  {
   "cell_type": "markdown",
   "id": "c7e47b6b",
   "metadata": {},
   "source": [
    "# 2.15\n",
    "문자열의 내용을 반대로 바꾸는 순환적인 함수 reverse()를 구현하라. 예를 들어 reverse(\"ABCDE\")는 \"EDCBA\"를 반환해야한다."
   ]
  },
  {
   "cell_type": "code",
   "execution_count": 93,
   "id": "44c1c108",
   "metadata": {},
   "outputs": [
    {
     "name": "stdout",
     "output_type": "stream",
     "text": [
      "ABCDE\n"
     ]
    }
   ],
   "source": [
    "s='ABCDE'\n",
    "print(s)"
   ]
  },
  {
   "cell_type": "code",
   "execution_count": 95,
   "id": "e30eff50",
   "metadata": {},
   "outputs": [
    {
     "data": {
      "text/plain": [
       "'EDCBA'"
      ]
     },
     "execution_count": 95,
     "metadata": {},
     "output_type": "execute_result"
    }
   ],
   "source": [
    "s[::-1]"
   ]
  },
  {
   "cell_type": "code",
   "execution_count": 110,
   "id": "0a2105e7",
   "metadata": {},
   "outputs": [],
   "source": [
    "def reverseText(a,i):\n",
    "    if i>=len(a):\n",
    "        return\n",
    "    \n",
    "    reverseText(a,i+1)\n",
    "    print(a[i],end='')"
   ]
  },
  {
   "cell_type": "code",
   "execution_count": 111,
   "id": "9cc295a6",
   "metadata": {},
   "outputs": [
    {
     "name": "stdout",
     "output_type": "stream",
     "text": [
      "EDCBA"
     ]
    }
   ],
   "source": [
    "a='ABCDE'\n",
    "reverseText(a,0)"
   ]
  },
  {
   "cell_type": "markdown",
   "id": "d1e36eb6",
   "metadata": {},
   "source": [
    "# 2.16\n",
    "순환을 사용하여 1부터 n까지의 숫자를 화면에 순서대로 출력하는 함수 printNum(n)과 역순으로 출력하는 함수 printRevNum(n)을 작성하라 다음은 각각 printNum(10)과 printRevNum(10)의 출력 결과이다."
   ]
  },
  {
   "cell_type": "markdown",
   "id": "e25d4a7c",
   "metadata": {},
   "source": [
    "1 2 3 4 5 6 7 8 9 10    \n",
    "10 9 8 7 6 5 4 3 2 1 "
   ]
  },
  {
   "cell_type": "code",
   "execution_count": 121,
   "id": "ec7295c1",
   "metadata": {},
   "outputs": [],
   "source": [
    "def printRevNum(a):\n",
    "    if i>=a:\n",
    "        return\n",
    "    \n",
    "    printRevNum(a,i+1)\n",
    "    print(a+i,end='')"
   ]
  },
  {
   "cell_type": "code",
   "execution_count": 122,
   "id": "6934f9c2",
   "metadata": {},
   "outputs": [
    {
     "name": "stdout",
     "output_type": "stream",
     "text": [
      "19181716151413121110"
     ]
    }
   ],
   "source": [
    "printRevNum(10,0)"
   ]
  },
  {
   "cell_type": "markdown",
   "id": "b85e00fb",
   "metadata": {},
   "source": [
    "# ~2.16~"
   ]
  },
  {
   "cell_type": "markdown",
   "id": "924b877e",
   "metadata": {},
   "source": [
    "# ~2.17~"
   ]
  },
  {
   "cell_type": "markdown",
   "id": "7a410047",
   "metadata": {},
   "source": [
    "# p2.1\n",
    "다음은 근로세득세율 표을 보여주고 있다. 소득을 입력하면 세금을 계산하고 세금과 세후 소득을 출력하는 프로그램을 작성하라. 수입이 조금이라도 많으면 세금은 세후 소득이 더 많아야 한다. 예를 들어, 소득이 2000만원이라면 1200만원까지는 6%를 내고, 다음 구간(1200만원~4600만원)에 포함되는 800만원에 대해서는 15%를 내야하므로 전체 세금은 1200X6%+800+15%이다.\n"
   ]
  },
  {
   "cell_type": "code",
   "execution_count": 4,
   "id": "951aa760",
   "metadata": {},
   "outputs": [
    {
     "name": "stdout",
     "output_type": "stream",
     "text": [
      "소득을 입력하세요20000\n",
      "5510.0\n"
     ]
    }
   ],
   "source": [
    "income=int(input(\"소득을 입력하세요\"))\n",
    "\n",
    "if income <=1200:\n",
    "    print(income * 0.06)\n",
    "elif income<=4600:\n",
    "    print(1200 * .06 + (income -1200)*.15)\n",
    "elif income<=8800:\n",
    "    print(1200 * .06 + 3400*.15 + (income-4600)*.24)\n",
    "elif income<=15000:\n",
    "    print(1200 * .06 + 3400*.15 + 4200*.24) + (income-8800)*.35\n",
    "else:\n",
    "    print(1200 * .06 + 3400*.15 + 4200*.24 + 6200*.35+(income-15000)*.35)\n",
    "\n",
    "    "
   ]
  },
  {
   "cell_type": "markdown",
   "id": "c43087da",
   "metadata": {},
   "source": [
    "# P2.2\n",
    "번호 맞히기 게임(Up-and-Down 게임)을 구현하자. 숨겨진 두 자리의 숫자를 추측하여 맞추는 것이다. 게이머가 숫자를 예측하면 컴퓨터는 정답과 비교하여 \"더 큰 숫자입니다\"나 \"더 작은 숫자입니다\" 그리고 맞힌 경우 \"정답입니다\"를 출력한다. 중간에 맞히거나 10번 동안 맞히지 못하면 게임이 끝난다."
   ]
  },
  {
   "cell_type": "code",
   "execution_count": null,
   "id": "92c1e001",
   "metadata": {},
   "outputs": [],
   "source": [
    "answer=67\n",
    "guess=input(\"숫자를 입력하세요(범위:0~99)\")\n",
    "for i in range(1,11,1):   \n",
    "    if answer==guess:\n",
    "        print(\"정답입니다.\",i,\"번 만에 맞추셨습니다.\")\n",
    "    elif answer>guess:\n",
    "        print(\"아닙니다. 더 큰 숫자입니다.\")\n",
    "    else:\n",
    "        print(\"아닙니다. 더 작은 숫자입니다.\")\n",
    "    guess=input(\"숫자를 입력하세요(범위:0~99)\")\n",
    "        \n",
    "    \n",
    "    "
   ]
  },
  {
   "cell_type": "code",
   "execution_count": 13,
   "id": "0f8cee78",
   "metadata": {},
   "outputs": [
    {
     "name": "stdout",
     "output_type": "stream",
     "text": [
      "업다운 게임\n",
      "숫자를 입력하세요(범위: 0 ~ 99 ):0\n",
      "아닙니다. 더 큰 숫자입니다!\n",
      "숫자를 입력하세요(범위: 0 ~ 99 ):1\n",
      "아닙니다. 더 큰 숫자입니다!\n",
      "숫자를 입력하세요(범위: 1 ~ 99 ):2\n",
      "아닙니다. 더 큰 숫자입니다!\n",
      "숫자를 입력하세요(범위: 2 ~ 99 ):3\n",
      "아닙니다. 더 큰 숫자입니다!\n",
      "숫자를 입력하세요(범위: 3 ~ 99 ):4\n",
      "아닙니다. 더 큰 숫자입니다!\n",
      "숫자를 입력하세요(범위: 4 ~ 99 ):5\n",
      "아닙니다. 더 큰 숫자입니다!\n",
      "숫자를 입력하세요(범위: 5 ~ 99 ):6\n",
      "아닙니다. 더 큰 숫자입니다!\n",
      "숫자를 입력하세요(범위: 6 ~ 99 ):7\n",
      "아닙니다. 더 큰 숫자입니다!\n",
      "숫자를 입력하세요(범위: 7 ~ 99 ):8\n",
      "아닙니다. 더 큰 숫자입니다!\n",
      "숫자를 입력하세요(범위: 8 ~ 99 ):9\n",
      "아닙니다. 더 큰 숫자입니다!\n",
      "게임이 끝났습니다.\n",
      "정답은 76입니다.\n"
     ]
    }
   ],
   "source": [
    "from random import *\n",
    "\n",
    "print(\"업다운 게임\")\n",
    "\n",
    "b = randrange(1, 101)\n",
    "min=0\n",
    "max=99\n",
    "for i in range(1,11,1):\n",
    "    print('숫자를 입력하세요(범위:',min,'~',max,')',end='')\n",
    "    a=int(input(\":\"))\n",
    "    if a < b:\n",
    "        print(\"아닙니다. 더 큰 숫자입니다!\")\n",
    "        min=a\n",
    "    elif a > b:\n",
    "        print(\"아닙니다. 더 작은 숫자입니다!\")\n",
    "        max=a\n",
    "    elif a==b:\n",
    "        print(\"정답입니다.{0}번 만에 맞추셨습니다.\".format(str(i)))\n",
    "        print(\"게임이 끝났습니다.\")\n",
    "        break\n",
    "    if i==10:\n",
    "        print(\"게임이 끝났습니다.\")\n",
    "        print(\"정답은 {0}입니다.\".format(str(b)))"
   ]
  },
  {
   "cell_type": "markdown",
   "id": "5f4e1bee",
   "metadata": {},
   "source": [
    "# ~P2.3~ \n",
    "높이를 입력받아 다음과 같은 숫자 피라미드를 출력하는 다음 게임을 만들어보자. 먼저 숫자가 출력되는 규칙을 잘 찾아보라.\n",
    "- 2중 루프를 사용한다. 바깥 루프는 세로를 나타내고 높이만큼 반복하면된다.\n",
    "- 내부 루프는 한 줄에서의 위치를 나타낸다. 한 줄에서의 출력은 세 부분으로 나누어야 할 것이다. 맨 처음 공백을 적절히 출력한다. 다음으로 숫자가 증가하는 방향으로 출력하고, 마지막으로 감소하는 방향으로 숫자를 출력한다. "
   ]
  },
  {
   "cell_type": "code",
   "execution_count": 15,
   "id": "fac46b99",
   "metadata": {},
   "outputs": [
    {
     "name": "stdout",
     "output_type": "stream",
     "text": [
      "Fourth Number Pattern\n",
      "                 1 \n",
      "              1  2  1 \n",
      "            1 2  4  2  1 \n",
      "          1 2 4  8  4  2  1 \n",
      "        1 2 4 8 16  8  4  2  1 \n",
      "      1 2 4 8 16 32 16  8  4  2  1 \n",
      "    1 2 4 8 16 32 64 32 16  8  4  2  1 \n",
      "  1 2 4 8 16 32 64 128 64 32 16  8  4  2  1 \n"
     ]
    }
   ],
   "source": [
    "print(\"Fourth Number Pattern\")\n",
    "lastNumber = 9\n",
    "for i in range(1, lastNumber):\n",
    "    for j in range(lastNumber-i):\n",
    "        print(' ', end=' ')\n",
    "    for j in range(1,i):\n",
    "        if(lastNumber>=6):   \n",
    "            print(2**(j-1), end=' ')    \n",
    "    for i in range(-1+i, -1, -1):\n",
    "        print(format(2**i, \"2d\"), end=' ')\n",
    "    print(\"\")"
   ]
  },
  {
   "cell_type": "code",
   "execution_count": 20,
   "id": "93015c66",
   "metadata": {},
   "outputs": [
    {
     "name": "stdout",
     "output_type": "stream",
     "text": [
      "Enter number of rows: 7\n",
      "            1 \n",
      "          2 3 2 \n",
      "        3 4 5 4 3 \n",
      "      4 5 6 7 6 5 4 \n",
      "    5 6 7 8 9 8 7 6 5 \n",
      "  6 7 8 9 10 11 10 9 8 7 6 \n",
      "7 8 9 10 11 12 13 12 11 10 9 8 7 \n"
     ]
    }
   ],
   "source": [
    "rows = int(input(\"Enter number of rows: \"))\n",
    "\n",
    "k = 0\n",
    "count=0\n",
    "count1=0\n",
    "\n",
    "for i in range(1, rows+1):\n",
    "    for space in range(1, (rows-i)+1):\n",
    "        print(\"  \", end=\"\")\n",
    "        count+=1\n",
    "    \n",
    "    while k!=((2*i)-1):\n",
    "        if count<=rows-1:\n",
    "            print(i+k, end=\" \")\n",
    "            count+=1\n",
    "        else:\n",
    "            count1+=1\n",
    "            print(i+k-(2*count1), end=\" \")\n",
    "        k += 1\n",
    "    \n",
    "    count1 = count = k = 0\n",
    "    print()"
   ]
  },
  {
   "cell_type": "markdown",
   "id": "b66ebb27",
   "metadata": {},
   "source": [
    "# ~P2.4~"
   ]
  },
  {
   "cell_type": "code",
   "execution_count": 30,
   "id": "54ba776e",
   "metadata": {},
   "outputs": [],
   "source": [
    "class Bag():\n",
    "    def __init__(self):\n",
    "        self.items=[]\n",
    "    \n",
    "    def contains(self,e):\n",
    "        return e in self.items\n",
    "    \n",
    "    def insert(self,e):\n",
    "        self.items.append(e)\n",
    "    \n",
    "    def remove(self,e):\n",
    "        self.items.remove(e)\n",
    "    \n",
    "    def count(self):\n",
    "        return len(self.items)\n"
   ]
  },
  {
   "cell_type": "code",
   "execution_count": 31,
   "id": "ea3e0847",
   "metadata": {},
   "outputs": [],
   "source": [
    "myBag=Bag()"
   ]
  },
  {
   "cell_type": "code",
   "execution_count": 32,
   "id": "05f1e641",
   "metadata": {},
   "outputs": [
    {
     "name": "stdout",
     "output_type": "stream",
     "text": [
      "내 가방속의 물건: ['휴대폰', '지갑', '손수건', '빗', '자료구조', '야구공']\n"
     ]
    }
   ],
   "source": [
    "myBag.insert('휴대폰')\n",
    "myBag.insert('지갑')\n",
    "myBag.insert('손수건')\n",
    "myBag.insert('빗')\n",
    "myBag.insert('자료구조')\n",
    "myBag.insert('야구공')\n",
    "print('내 가방속의 물건:',myBag.items)"
   ]
  },
  {
   "cell_type": "code",
   "execution_count": 33,
   "id": "dc912164",
   "metadata": {},
   "outputs": [
    {
     "name": "stdout",
     "output_type": "stream",
     "text": [
      "내 가방속의 물건: ['휴대폰', '지갑', '빗', '자료구조', '야구공', '빗']\n"
     ]
    }
   ],
   "source": [
    "myBag.insert('빗')\n",
    "myBag.remove('손수건')\n",
    "print('내 가방속의 물건:',myBag.items)"
   ]
  },
  {
   "cell_type": "code",
   "execution_count": null,
   "id": "56d68f47",
   "metadata": {},
   "outputs": [],
   "source": []
  }
 ],
 "metadata": {
  "kernelspec": {
   "display_name": "Python 3",
   "language": "python",
   "name": "python3"
  },
  "language_info": {
   "codemirror_mode": {
    "name": "ipython",
    "version": 3
   },
   "file_extension": ".py",
   "mimetype": "text/x-python",
   "name": "python",
   "nbconvert_exporter": "python",
   "pygments_lexer": "ipython3",
   "version": "3.6.8"
  }
 },
 "nbformat": 4,
 "nbformat_minor": 5
}
